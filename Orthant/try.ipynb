{
 "cells": [
  {
   "cell_type": "code",
   "execution_count": 4,
   "metadata": {},
   "outputs": [],
   "source": [
    "from typing import Callable, Any\n",
    "import numpy as np\n",
    "from scipy.stats import norm, truncnorm"
   ]
  },
  {
   "cell_type": "code",
   "execution_count": 5,
   "metadata": {},
   "outputs": [],
   "source": [
    "def order_variable(Sigma, a, orderer=np.argmin, debug=False):\n",
    "    # Tested\n",
    "    \"\"\"\n",
    "    Returns an ordered version of the orthant probability problem {P(X >=a), X ~ N(0, Sigma)}.\n",
    "    \"\"\"\n",
    "    d = len(Sigma)\n",
    "    obj = _VariableOrdering(mu=np.array([0] * d), Sigma=Sigma.copy(), a=a.copy(), dummy=np.arange(d), orderer=orderer, debug=debug)\n",
    "    new_order = [i for i in obj]\n",
    "    if debug:\n",
    "        print(new_order)\n",
    "    assert len(set(new_order)) == d\n",
    "    return Sigma[np.ix_(new_order, new_order)], a[new_order]\n"
   ]
  },
  {
   "cell_type": "code",
   "execution_count": 6,
   "metadata": {},
   "outputs": [],
   "source": [
    "class _VariableOrdering:\n",
    "    # eye-tested\n",
    "    def __init__(self, mu, Sigma, a, dummy, orderer, debug=False):\n",
    "        self.mu, self.Sigma, self.a, self.dummy, self.orderer = mu, Sigma, a, dummy, orderer\n",
    "        self.debug = debug\n",
    "\n",
    "    def __iter__(self):\n",
    "        return self\n",
    "\n",
    "    def __next__(self):\n",
    "        if len(self.dummy) < 1:\n",
    "            raise StopIteration\n",
    "        probas = norm.logsf(self.a, loc=self.mu, scale=np.sqrt(np.diag(self.Sigma)))\n",
    "        chosen_index = self.orderer(probas)\n",
    "        condition_value = self.__class__.truncnorm_mean(mean=self.mu[chosen_index], var=self.Sigma[chosen_index, chosen_index], a=self.a[chosen_index])\n",
    "        [self.__class__.reorder_1d(x, chosen_index) for x in [self.mu, self.a, self.dummy]]\n",
    "        self.__class__.reorder_2d(self.Sigma, chosen_index)\n",
    "        self.mu, self.Sigma = self.__class__.condition_on_first_variable(mu=self.mu, Sigma=self.Sigma, val=condition_value)\n",
    "        if self.debug:\n",
    "            print(self.mu)\n",
    "            print(self.Sigma)\n",
    "        self.a = self.a[1:]\n",
    "        res = self.dummy[0]\n",
    "        self.dummy = self.dummy[1:]\n",
    "        return res\n",
    "\n",
    "    @staticmethod\n",
    "    def reorder_1d(x,i):\n",
    "        x[i], x[0] = x[0], x[i]\n",
    "\n",
    "    @staticmethod\n",
    "    def reorder_2d(x, i):\n",
    "        #tested\n",
    "        x[i,:], x[0,:] = x[0,:].copy(), x[i,:].copy()\n",
    "        x[:,i], x[:,0] = x[:,0].copy(), x[:,i].copy()\n",
    "\n",
    "    @staticmethod\n",
    "    def condition_on_first_variable(mu, Sigma, val):\n",
    "        # tested\n",
    "        \"\"\"\n",
    "        :param mu: numpy array of size (d,)\n",
    "        :param Sigma: numpy array of size (d,d)\n",
    "        :param val: float\n",
    "        :return: mu_prime, Sigma_prime: mean and covariance matrix of N(X_{1:d-1} | X_0 = val), where X_{0:d-1} ~ N(mu, Sigma)\n",
    "        \"\"\"\n",
    "        mu_prime = Sigma[0, :] / Sigma[0, 0] * (val - mu[0]) + mu\n",
    "        Sigma_prime = Sigma - np.outer(Sigma[0, :], Sigma[0, :]) / Sigma[0, 0]\n",
    "        return mu_prime[1:], Sigma_prime[1:, 1:]\n",
    "\n",
    "    @staticmethod\n",
    "    def truncnorm_mean(mean, var, a):\n",
    "        # tested\n",
    "        \"\"\"\n",
    "        Calculate the mean of N(mean, var) conditionnally on x >=a.\n",
    "        \"\"\"\n",
    "        s = var ** 0.5\n",
    "        return mean + s * truncnorm.moment(1, a=(a-mean)/s, b=np.inf)\n"
   ]
  },
  {
   "cell_type": "code",
   "execution_count": 12,
   "metadata": {},
   "outputs": [],
   "source": [
    "a = np.load(\"a_rc150.npy\")\n",
    "S = np.load(\"Sigma_rc150.npy\")"
   ]
  },
  {
   "cell_type": "code",
   "execution_count": 13,
   "metadata": {},
   "outputs": [],
   "source": [
    "newS,newa = order_variable(S,a)"
   ]
  },
  {
   "cell_type": "code",
   "execution_count": 14,
   "metadata": {},
   "outputs": [
    {
     "data": {
      "text/plain": [
       "array([[0., 0., 0., ..., 0., 0., 0.],\n",
       "       [0., 0., 0., ..., 0., 0., 0.],\n",
       "       [0., 0., 0., ..., 0., 0., 0.],\n",
       "       ...,\n",
       "       [0., 0., 0., ..., 0., 0., 0.],\n",
       "       [0., 0., 0., ..., 0., 0., 0.],\n",
       "       [0., 0., 0., ..., 0., 0., 0.]])"
      ]
     },
     "execution_count": 14,
     "metadata": {},
     "output_type": "execute_result"
    }
   ],
   "source": []
  },
  {
   "cell_type": "code",
   "execution_count": null,
   "metadata": {},
   "outputs": [],
   "source": []
  }
 ],
 "metadata": {
  "interpreter": {
   "hash": "353809d7632036b63a4bd0aca8b9097d538439d3859d20d8e1a5f26ad8a094a7"
  },
  "kernelspec": {
   "display_name": "Python 3.8.13 ('base')",
   "language": "python",
   "name": "python3"
  },
  "language_info": {
   "codemirror_mode": {
    "name": "ipython",
    "version": 3
   },
   "file_extension": ".py",
   "mimetype": "text/x-python",
   "name": "python",
   "nbconvert_exporter": "python",
   "pygments_lexer": "ipython3",
   "version": "3.8.13"
  },
  "orig_nbformat": 4
 },
 "nbformat": 4,
 "nbformat_minor": 2
}
